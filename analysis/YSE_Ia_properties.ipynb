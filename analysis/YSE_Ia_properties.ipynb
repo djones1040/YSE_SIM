{
 "cells": [
  {
   "cell_type": "markdown",
   "metadata": {},
   "source": [
    "# Comparing SN Ia Distances"
   ]
  },
  {
   "cell_type": "code",
   "execution_count": 1,
   "metadata": {},
   "outputs": [],
   "source": [
    "frfiles = ['YSE/yse_gr_gi_gz_PLASTICC_MODEL90_SNIa-SALT2/FITOPT000.FITRES',\n",
    "          'YSE/yse_gr_gi_gz_10per_PLASTICC_MODEL90_SNIa-SALT2/FITOPT000.FITRES',\n",
    "          'YSE/yse_gr_gi_gz_30per_PLASTICC_MODEL90_SNIa-SALT2/FITOPT000.FITRES',\n",
    "          'YSE/yse_gi_rz_PLASTICC_MODEL90_SNIa-SALT2/FITOPT000.FITRES',\n",
    "          'YSE/yse_gr_gi_gz_30s_PLASTICC_MODEL90_SNIa-SALT2/FITOPT000.FITRES',\n",
    "          'YSE/yse_gri_grz_PLASTICC_MODEL90_SNIa-SALT2/FITOPT000.FITRES']\n",
    "surveynames = ['gr, gi, gz',\n",
    "              'gr, gi, gz, 10% 1-day',\n",
    "              'gr, gi, gz, 30% 1-day',\n",
    "              'gi, rz, 10% 1-day',\n",
    "              'gr, gi, gz, 30s, 10% 1-day',\n",
    "              'gri, grz, 10% 1-day']"
   ]
  },
  {
   "cell_type": "markdown",
   "metadata": {},
   "source": [
    "### Getting some basic numbers"
   ]
  },
  {
   "cell_type": "code",
   "execution_count": 2,
   "metadata": {},
   "outputs": [],
   "source": [
    "import numpy as np\n",
    "%matplotlib inline\n",
    "import matplotlib.pyplot as plt\n",
    "import getmu\n",
    "from txtobj import txtobj"
   ]
  },
  {
   "cell_type": "code",
   "execution_count": 12,
   "metadata": {},
   "outputs": [
    {
     "name": "stdout",
     "output_type": "stream",
     "text": [
      "survey: gr, gi, gz, N_SN = 352, z_med = 0.097, sigma_x1 = 0.384185, sigma_c = 0.044\n",
      "survey: gr, gi, gz, 10% 1-day, N_SN = 333, z_med = 0.093, sigma_x1 = 0.39123, sigma_c = 0.044\n",
      "survey: gr, gi, gz, 30% 1-day, N_SN = 376, z_med = 0.104, sigma_x1 = 0.3849, sigma_c = 0.044\n",
      "survey: gi, rz, 10% 1-day, N_SN = 160, z_med = 0.098, sigma_x1 = 0.44162999999999997, sigma_c = 0.051\n",
      "survey: gr, gi, gz, 30s, 10% 1-day, N_SN = 390, z_med = 0.122, sigma_x1 = 0.358565, sigma_c = 0.041\n",
      "survey: gri, grz, 10% 1-day, N_SN = 295, z_med = 0.107, sigma_x1 = 0.38422, sigma_c = 0.043\n"
     ]
    }
   ],
   "source": [
    "for frfile,surveyname in zip(frfiles,surveynames):\n",
    "    fr = txtobj(frfile,fitresheader=True)\n",
    "    fr = getmu.getmu(fr,sigint=0.0)\n",
    "    fr = getmu.mkcuts(fr)\n",
    "    iErr = fr.muerr < 0.15\n",
    "    for k in fr.__dict__.keys():\n",
    "        fr.__dict__[k] = fr.__dict__[k][iErr]\n",
    "    print('survey: %s, N_SN = %i, z_med = %.3f, sigma_x1 = %s, sigma_c = %.3f'%(\n",
    "        surveyname,len(fr.CID),np.median(fr.zCMB),np.median(fr.x1ERR),np.median(fr.cERR)))"
   ]
  },
  {
   "cell_type": "markdown",
   "metadata": {},
   "source": [
    "### A couple histograms"
   ]
  },
  {
   "cell_type": "code",
   "execution_count": 11,
   "metadata": {},
   "outputs": [
    {
     "data": {
      "image/png": "[encoded data removed]",
      "text/plain": [
       "<Figure size 1008x288 with 3 Axes>"
      ]
     },
     "metadata": {
      "needs_background": "light"
     },
     "output_type": "display_data"
    }
   ],
   "source": [
    "plt.rcParams['figure.figsize'] = (14,4)\n",
    "ax1,ax2,ax3 = plt.subplot(131),plt.subplot(132),plt.subplot(133)\n",
    "for frfile,surveyname in zip(frfiles,surveynames):\n",
    "    fr = txtobj(frfile,fitresheader=True)\n",
    "    fr = getmu.getmu(fr,sigint=0.0)\n",
    "    fr = getmu.mkcuts(fr)\n",
    "    iErr = fr.muerr < 0.15\n",
    "    for k in fr.__dict__.keys():\n",
    "        fr.__dict__[k] = fr.__dict__[k][iErr]\n",
    "    zbins = np.linspace(0,0.3,20)\n",
    "    errbins = np.linspace(0.05,0.15,10)\n",
    "    cerrbins = np.linspace(0.0,0.1,20)\n",
    "    ax1.hist(fr.zCMB,bins=zbins,histtype='step',lw=2,label=surveyname)\n",
    "    ax2.hist(fr.muerr,bins=errbins,histtype='step',lw=2)\n",
    "    ax3.hist(fr.cERR,bins=cerrbins,histtype='step',lw=2)\n",
    "    ax1.set_xlabel('$z$',fontsize=15)\n",
    "    ax2.set_xlabel('$\\sigma_{\\mu}$',fontsize=15)\n",
    "    ax3.set_xlabel('$\\sigma_{c}$',fontsize=15)\n",
    "    ax1.legend(prop={'size':7})"
   ]
  },
  {
   "cell_type": "markdown",
   "metadata": {},
   "source": [
    "### Light curves with SALT2 Fits"
   ]
  },
  {
   "cell_type": "code",
   "execution_count": 5,
   "metadata": {},
   "outputs": [
    {
     "ename": "RuntimeError",
     "evalue": "kcor file format is non-standard for kcor file kcor_PS1_ZTF_none.fits",
     "output_type": "error",
     "traceback": [
      "\u001b[0;31m---------------------------------------------------------------------------\u001b[0m",
      "\u001b[0;31mValueError\u001b[0m                                Traceback (most recent call last)",
      "\u001b[0;32m~/Dropbox/research/YSE_SIM/analysis/register.py\u001b[0m in \u001b[0;36mrdkcor\u001b[0;34m(kcorfile)\u001b[0m\n\u001b[1;32m     35\u001b[0m                         \u001b[0mfiltertrans\u001b[0m \u001b[0;34m=\u001b[0m \u001b[0mhdu\u001b[0m\u001b[0;34m[\u001b[0m\u001b[0;36m5\u001b[0m\u001b[0;34m]\u001b[0m\u001b[0;34m.\u001b[0m\u001b[0mdata\u001b[0m\u001b[0;34m\u001b[0m\u001b[0;34m\u001b[0m\u001b[0m\n\u001b[0;32m---> 36\u001b[0;31m                         \u001b[0mprimarysed\u001b[0m \u001b[0;34m=\u001b[0m \u001b[0mhdu\u001b[0m\u001b[0;34m[\u001b[0m\u001b[0;36m6\u001b[0m\u001b[0;34m]\u001b[0m\u001b[0;34m.\u001b[0m\u001b[0mdata\u001b[0m\u001b[0;34m\u001b[0m\u001b[0;34m\u001b[0m\u001b[0m\n\u001b[0m\u001b[1;32m     37\u001b[0m                         \u001b[0mhdu\u001b[0m\u001b[0;34m.\u001b[0m\u001b[0mclose\u001b[0m\u001b[0;34m(\u001b[0m\u001b[0;34m)\u001b[0m\u001b[0;34m\u001b[0m\u001b[0;34m\u001b[0m\u001b[0m\n",
      "\u001b[0;32m//anaconda/lib/python3.7/site-packages/astropy/utils/decorators.py\u001b[0m in \u001b[0;36m__get__\u001b[0;34m(self, obj, owner)\u001b[0m\n\u001b[1;32m    743\u001b[0m             \u001b[0;32melse\u001b[0m\u001b[0;34m:\u001b[0m\u001b[0;34m\u001b[0m\u001b[0;34m\u001b[0m\u001b[0m\n\u001b[0;32m--> 744\u001b[0;31m                 \u001b[0mval\u001b[0m \u001b[0;34m=\u001b[0m \u001b[0mself\u001b[0m\u001b[0;34m.\u001b[0m\u001b[0mfget\u001b[0m\u001b[0;34m(\u001b[0m\u001b[0mobj\u001b[0m\u001b[0;34m)\u001b[0m\u001b[0;34m\u001b[0m\u001b[0;34m\u001b[0m\u001b[0m\n\u001b[0m\u001b[1;32m    745\u001b[0m                 \u001b[0mobj\u001b[0m\u001b[0;34m.\u001b[0m\u001b[0m__dict__\u001b[0m\u001b[0;34m[\u001b[0m\u001b[0mself\u001b[0m\u001b[0;34m.\u001b[0m\u001b[0m_key\u001b[0m\u001b[0;34m]\u001b[0m \u001b[0;34m=\u001b[0m \u001b[0mval\u001b[0m\u001b[0;34m\u001b[0m\u001b[0;34m\u001b[0m\u001b[0m\n",
      "\u001b[0;32m//anaconda/lib/python3.7/site-packages/astropy/io/fits/hdu/table.py\u001b[0m in \u001b[0;36mdata\u001b[0;34m(self)\u001b[0m\n\u001b[1;32m    405\u001b[0m     \u001b[0;32mdef\u001b[0m \u001b[0mdata\u001b[0m\u001b[0;34m(\u001b[0m\u001b[0mself\u001b[0m\u001b[0;34m)\u001b[0m\u001b[0;34m:\u001b[0m\u001b[0;34m\u001b[0m\u001b[0;34m\u001b[0m\u001b[0m\n\u001b[0;32m--> 406\u001b[0;31m         \u001b[0mdata\u001b[0m \u001b[0;34m=\u001b[0m \u001b[0mself\u001b[0m\u001b[0;34m.\u001b[0m\u001b[0m_get_tbdata\u001b[0m\u001b[0;34m(\u001b[0m\u001b[0;34m)\u001b[0m\u001b[0;34m\u001b[0m\u001b[0;34m\u001b[0m\u001b[0m\n\u001b[0m\u001b[1;32m    407\u001b[0m         \u001b[0mdata\u001b[0m\u001b[0;34m.\u001b[0m\u001b[0m_coldefs\u001b[0m \u001b[0;34m=\u001b[0m \u001b[0mself\u001b[0m\u001b[0;34m.\u001b[0m\u001b[0mcolumns\u001b[0m\u001b[0;34m\u001b[0m\u001b[0;34m\u001b[0m\u001b[0m\n",
      "\u001b[0;32m//anaconda/lib/python3.7/site-packages/astropy/io/fits/hdu/table.py\u001b[0m in \u001b[0;36m_get_tbdata\u001b[0;34m(self)\u001b[0m\n\u001b[1;32m    170\u001b[0m         \u001b[0;32melse\u001b[0m\u001b[0;34m:\u001b[0m\u001b[0;34m\u001b[0m\u001b[0;34m\u001b[0m\u001b[0m\n\u001b[0;32m--> 171\u001b[0;31m             raw_data = self._get_raw_data(self._nrows, columns.dtype,\n\u001b[0m\u001b[1;32m    172\u001b[0m                                           self._data_offset)\n",
      "\u001b[0;32m//anaconda/lib/python3.7/site-packages/astropy/utils/decorators.py\u001b[0m in \u001b[0;36m__get__\u001b[0;34m(self, obj, owner)\u001b[0m\n\u001b[1;32m    743\u001b[0m             \u001b[0;32melse\u001b[0m\u001b[0;34m:\u001b[0m\u001b[0;34m\u001b[0m\u001b[0;34m\u001b[0m\u001b[0m\n\u001b[0;32m--> 744\u001b[0;31m                 \u001b[0mval\u001b[0m \u001b[0;34m=\u001b[0m \u001b[0mself\u001b[0m\u001b[0;34m.\u001b[0m\u001b[0mfget\u001b[0m\u001b[0;34m(\u001b[0m\u001b[0mobj\u001b[0m\u001b[0;34m)\u001b[0m\u001b[0;34m\u001b[0m\u001b[0;34m\u001b[0m\u001b[0m\n\u001b[0m\u001b[1;32m    745\u001b[0m                 \u001b[0mobj\u001b[0m\u001b[0;34m.\u001b[0m\u001b[0m__dict__\u001b[0m\u001b[0;34m[\u001b[0m\u001b[0mself\u001b[0m\u001b[0;34m.\u001b[0m\u001b[0m_key\u001b[0m\u001b[0;34m]\u001b[0m \u001b[0;34m=\u001b[0m \u001b[0mval\u001b[0m\u001b[0;34m\u001b[0m\u001b[0;34m\u001b[0m\u001b[0m\n",
      "\u001b[0;32m//anaconda/lib/python3.7/site-packages/astropy/io/fits/column.py\u001b[0m in \u001b[0;36mdtype\u001b[0;34m(self)\u001b[0m\n\u001b[1;32m   1588\u001b[0m                          \u001b[0;34m'formats'\u001b[0m\u001b[0;34m:\u001b[0m \u001b[0mformats\u001b[0m\u001b[0;34m,\u001b[0m\u001b[0;34m\u001b[0m\u001b[0;34m\u001b[0m\u001b[0m\n\u001b[0;32m-> 1589\u001b[0;31m                          'offsets': offsets})\n\u001b[0m\u001b[1;32m   1590\u001b[0m \u001b[0;34m\u001b[0m\u001b[0m\n",
      "\u001b[0;31mValueError\u001b[0m: field names must be strings",
      "\nDuring handling of the above exception, another exception occurred:\n",
      "\u001b[0;31mRuntimeError\u001b[0m                              Traceback (most recent call last)",
      "\u001b[0;32m<ipython-input-5-79e52ab54019>\u001b[0m in \u001b[0;36m<module>\u001b[0;34m\u001b[0m\n\u001b[1;32m      1\u001b[0m \u001b[0;32mimport\u001b[0m \u001b[0msncosmo\u001b[0m\u001b[0;34m\u001b[0m\u001b[0;34m\u001b[0m\u001b[0m\n\u001b[1;32m      2\u001b[0m \u001b[0;32mimport\u001b[0m \u001b[0mregister\u001b[0m\u001b[0;34m\u001b[0m\u001b[0;34m\u001b[0m\u001b[0m\n\u001b[0;32m----> 3\u001b[0;31m \u001b[0mregister\u001b[0m\u001b[0;34m.\u001b[0m\u001b[0mfrom_kcor\u001b[0m\u001b[0;34m(\u001b[0m\u001b[0;34m'kcor_PS1_ZTF_none.fits'\u001b[0m\u001b[0;34m)\u001b[0m\u001b[0;34m\u001b[0m\u001b[0;34m\u001b[0m\u001b[0m\n\u001b[0m",
      "\u001b[0;32m~/Dropbox/research/YSE_SIM/analysis/register.py\u001b[0m in \u001b[0;36mfrom_kcor\u001b[0;34m(kcorfile)\u001b[0m\n\u001b[1;32m      9\u001b[0m \u001b[0;32mdef\u001b[0m \u001b[0mfrom_kcor\u001b[0m\u001b[0;34m(\u001b[0m\u001b[0mkcorfile\u001b[0m\u001b[0;34m)\u001b[0m\u001b[0;34m:\u001b[0m\u001b[0;34m\u001b[0m\u001b[0;34m\u001b[0m\u001b[0m\n\u001b[1;32m     10\u001b[0m \u001b[0;34m\u001b[0m\u001b[0m\n\u001b[0;32m---> 11\u001b[0;31m         \u001b[0mbandpassdict\u001b[0m \u001b[0;34m=\u001b[0m \u001b[0mrdkcor\u001b[0m\u001b[0;34m(\u001b[0m\u001b[0mkcorfile\u001b[0m\u001b[0;34m)\u001b[0m\u001b[0;34m\u001b[0m\u001b[0;34m\u001b[0m\u001b[0m\n\u001b[0m\u001b[1;32m     12\u001b[0m \u001b[0;34m\u001b[0m\u001b[0m\n\u001b[1;32m     13\u001b[0m         \u001b[0mbandlist\u001b[0m \u001b[0;34m=\u001b[0m \u001b[0;34m[\u001b[0m\u001b[0;34m]\u001b[0m\u001b[0;34m\u001b[0m\u001b[0;34m\u001b[0m\u001b[0m\n",
      "\u001b[0;32m~/Dropbox/research/YSE_SIM/analysis/register.py\u001b[0m in \u001b[0;36mrdkcor\u001b[0;34m(kcorfile)\u001b[0m\n\u001b[1;32m     37\u001b[0m                         \u001b[0mhdu\u001b[0m\u001b[0;34m.\u001b[0m\u001b[0mclose\u001b[0m\u001b[0;34m(\u001b[0m\u001b[0;34m)\u001b[0m\u001b[0;34m\u001b[0m\u001b[0;34m\u001b[0m\u001b[0m\n\u001b[1;32m     38\u001b[0m                 \u001b[0;32mexcept\u001b[0m\u001b[0;34m:\u001b[0m\u001b[0;34m\u001b[0m\u001b[0;34m\u001b[0m\u001b[0m\n\u001b[0;32m---> 39\u001b[0;31m                         \u001b[0;32mraise\u001b[0m \u001b[0mRuntimeError\u001b[0m\u001b[0;34m(\u001b[0m\u001b[0;34m'kcor file format is non-standard for kcor file %s'\u001b[0m\u001b[0;34m%\u001b[0m\u001b[0mkcorfile\u001b[0m\u001b[0;34m)\u001b[0m\u001b[0;34m\u001b[0m\u001b[0;34m\u001b[0m\u001b[0m\n\u001b[0m\u001b[1;32m     40\u001b[0m \u001b[0;34m\u001b[0m\u001b[0m\n\u001b[1;32m     41\u001b[0m         \u001b[0mkcordict\u001b[0m\u001b[0;34m[\u001b[0m\u001b[0;34m'filtwave'\u001b[0m\u001b[0;34m]\u001b[0m \u001b[0;34m=\u001b[0m \u001b[0mfiltertrans\u001b[0m\u001b[0;34m[\u001b[0m\u001b[0;34m'wavelength (A)'\u001b[0m\u001b[0;34m]\u001b[0m\u001b[0;34m\u001b[0m\u001b[0;34m\u001b[0m\u001b[0m\n",
      "\u001b[0;31mRuntimeError\u001b[0m: kcor file format is non-standard for kcor file kcor_PS1_ZTF_none.fits"
     ]
    }
   ],
   "source": [
    "import sncosmo\n",
    "import register\n",
    "register.from_kcor('kcor_PS1_ZTF_none.fits')"
   ]
  },
  {
   "cell_type": "code",
   "execution_count": null,
   "metadata": {},
   "outputs": [],
   "source": [
    "def plotLCs(idx):\n",
    "    j = 0\n",
    "    for i in idx:\n",
    "        sn = X.loc[X.index[i]]\n",
    "        ax1 = plt.subplot(gs1[j % 24]); ax2 = plt.subplot(gs1[(j+1) % 24])\n",
    "        ax3 = plt.subplot(gs1[(j+2) % 24]); ax4 = plt.subplot(gs1[(j+3) % 24])\n",
    "        if j == 0:\n",
    "            for f,ax in zip('griz',[ax1,ax2,ax3,ax4]):\n",
    "                ax.set_title('$%s$'%f)\n",
    "        for f,ax,label in zip('XY',[ax1,ax2],['ZTF','ZTF-r']):\n",
    "            ax.errorbar(sn['mjd_%s'%f]-sn['SIM_PEAKMJD'],sn['fluxcal_%s'%f],\n",
    "                        yerr=sn['fluxcalerr_%s'%f],fmt='.',label=label)\n",
    "        for f,ax in zip('griz',[ax1,ax2,ax3,ax4]):\n",
    "            ax.errorbar(sn['mjd_%s'%f]-sn['SIM_PEAKMJD'],sn['fluxcal_%s'%f],\n",
    "                        yerr=sn['fluxcalerr_%s'%f],fmt='o',label='PS1',color='k')\n",
    "            ax.set_title('$%s$'%f)\n",
    "            ax.set_xlim([-40,80])\n",
    "            ax.set_ylim([-1*0.1*np.max(np.concatenate((sn['fluxcal_g'][(sn['mjd_g']-sn['SIM_PEAKMJD'] > -40) & (sn['mjd_g']-sn['SIM_PEAKMJD'] < 80)],\n",
    "                        sn['fluxcal_r'][(sn['mjd_r']-sn['SIM_PEAKMJD'] > -40) & (sn['mjd_r']-sn['SIM_PEAKMJD'] < 80)],\n",
    "                        sn['fluxcal_i'][(sn['mjd_i']-sn['SIM_PEAKMJD'] > -40) & (sn['mjd_i']-sn['SIM_PEAKMJD'] < 80)],\n",
    "                        sn['fluxcal_z'][(sn['mjd_z']-sn['SIM_PEAKMJD'] > -40) & (sn['mjd_z']-sn['SIM_PEAKMJD'] < 80)]))),\n",
    "                         1.5*np.max(np.concatenate((sn['fluxcal_g'][(sn['mjd_g']-sn['SIM_PEAKMJD'] > -40) & (sn['mjd_g']-sn['SIM_PEAKMJD'] < 80)],\n",
    "                        sn['fluxcal_r'][(sn['mjd_r']-sn['SIM_PEAKMJD'] > -40) & (sn['mjd_r']-sn['SIM_PEAKMJD'] < 80)],\n",
    "                        sn['fluxcal_i'][(sn['mjd_i']-sn['SIM_PEAKMJD'] > -40) & (sn['mjd_i']-sn['SIM_PEAKMJD'] < 80)],\n",
    "                        sn['fluxcal_z'][(sn['mjd_z']-sn['SIM_PEAKMJD'] > -40) & (sn['mjd_z']-sn['SIM_PEAKMJD'] < 80)])))])\n",
    "            ax.xaxis.set_ticks([-30,0,30,60])\n",
    "            ax.set_xlabel('phase')\n",
    "\n",
    "        if j == 0: ax1.legend()\n",
    "    \n",
    "        ax1.set_ylabel('%s\\nz=%.2f\\nFlux'%(\n",
    "            sn['SIM_TYPE'],sn['z']),va='center',ha='center',labelpad=30)\n",
    "        ax2.yaxis.set_ticklabels([]); ax3.yaxis.set_ticklabels([]); ax4.yaxis.set_ticklabels([])\n",
    "    \n",
    "        j += 4"
   ]
  },
  {
   "cell_type": "code",
   "execution_count": null,
   "metadata": {},
   "outputs": [],
   "source": []
  }
 ],
 "metadata": {
  "kernelspec": {
   "display_name": "Python 3",
   "language": "python",
   "name": "python3"
  },
  "language_info": {
   "codemirror_mode": {
    "name": "ipython",
    "version": 3
   },
   "file_extension": ".py",
   "mimetype": "text/x-python",
   "name": "python",
   "nbconvert_exporter": "python",
   "pygments_lexer": "ipython3",
   "version": "3.7.3"
  }
 },
 "nbformat": 4,
 "nbformat_minor": 2
}

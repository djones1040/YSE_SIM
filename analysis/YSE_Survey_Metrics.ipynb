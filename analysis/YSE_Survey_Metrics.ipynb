{
 "cells": [
  {
   "cell_type": "markdown",
   "metadata": {},
   "source": [
    "# YSE Survey Simulation Metrics"
   ]
  },
  {
   "cell_type": "markdown",
   "metadata": {},
   "source": [
    "I've generated SNANA simulations for a variety of Young Supernova Experiment survey designs and condensed the output into gzipped \"pickle\" files.  This notebook is a brief walkthrough of how to analyze the data and figure out some of the parameters of the survey.  All simulations are for **one year** of survey time.\n",
    "\n",
    "Start by reading in the data.  The read_data function below adds some keys and re-organization to make it easy to parse the data later.  It also adds estimates of explosion time for each model that I've computed from \"perfect\" simulations.  Simulations use the transient models from the PLAsTiCC team."
   ]
  },
  {
   "cell_type": "code",
   "execution_count": null,
   "metadata": {},
   "outputs": [],
   "source": [
    "%matplotlib inline\n",
    "import matplotlib.pyplot as plt\n",
    "import numpy as np\n",
    "# takes a minute to run\n",
    "# this code adapted from the PLAsTiCC team\n",
    "from read_pkl import read_data"
   ]
  },
  {
   "cell_type": "code",
   "execution_count": null,
   "metadata": {},
   "outputs": [],
   "source": [
    "pklfile = '../pkl/yse_gr_gi_gz_10per_PLASTICC.pkl.gz'\n",
    "X, y = read_data(pklfile)"
   ]
  },
  {
   "cell_type": "markdown",
   "metadata": {},
   "source": [
    "### Histograms of peak mag and redshift\n",
    "\n",
    "I'm going to walk through and make a few plots, which will hopefully clarify some of the structure of X.  I'll start with all SNe and then add in the group of SNe with at least 3 SNR > 5 detections.  For that, we have to loop through the X dictionary."
   ]
  },
  {
   "cell_type": "code",
   "execution_count": null,
   "metadata": {},
   "outputs": [],
   "source": [
    "# peak mags and redshifts are easy\n",
    "plt.subplots_adjust(\n",
    "    left=0.1, bottom=None, right=0.9, top=None, wspace=0, hspace=0)\n",
    "magbins = np.linspace(17,23,20)\n",
    "zbins = np.linspace(0,0.5,20)\n",
    "ax1 = plt.subplot(121)\n",
    "ax2 = plt.subplot(122)\n",
    "\n",
    "ax1.hist(X.SIM_PEAKMAG_r,bins=magbins,label='all SNe')\n",
    "ax2.hist(X.SIM_REDSHIFT_CMB,bins=zbins)\n",
    "ax1.set_ylabel('N$_{Transients}$',fontsize=15)\n",
    "ax2.yaxis.set_ticklabels([])\n",
    "ax2.set_ylim(ax1.get_ylim())\n",
    "ax1.set_xlabel('$r$ mag',fontsize=15)\n",
    "ax2.set_xlabel('$z$',fontsize=15)\n",
    "\n",
    "print('median redshift of %.3f'%np.median(X.SIM_REDSHIFT_CMB))\n",
    "\n",
    "\n",
    "# but to get the peak mags/redshifts for things \n",
    "# with a certain SNR, we have to loop over the data\n",
    "iSNR = []\n",
    "for i,cid in enumerate(X.snid):\n",
    "    sn = X.loc[cid]\n",
    "    n_detect = 0\n",
    "    for f in 'griz':\n",
    "        n_detect += len(np.where(sn['fluxcal_%s'%f]/sn['fluxcalerr_%s'%f] \\\n",
    "                                 > 5)[0])\n",
    "    if n_detect > 3: iSNR += [i]\n",
    "ax1.hist(X.SIM_PEAKMAG_r[X.index[iSNR]],bins=magbins,\n",
    "         color='C1',label='3 SNR > 5 detections')\n",
    "ax2.hist(X.SIM_REDSHIFT_CMB[X.index[iSNR]],bins=zbins,color='C1')\n",
    "print('median redshift for >3 detections is %.3f'%(\n",
    "    np.median(X.SIM_REDSHIFT_CMB[X.index[iSNR]])))\n",
    "#import pdb; pdb.set_trace()"
   ]
  },
  {
   "cell_type": "markdown",
   "metadata": {},
   "source": [
    "## Demographics and Composition of the Sample\n",
    "\n",
    "I'm going to make a couple pie charts showing the number of SNe we're detecting and how many in a given survey design.\n",
    "\n",
    "So far, we're not finding TDEs, so I need to look into this to see if the simulations are missing something or if TDEs are just too rare."
   ]
  },
  {
   "cell_type": "code",
   "execution_count": null,
   "metadata": {},
   "outputs": [],
   "source": [
    "plt.rcParams['figure.figsize'] = (15,10)\n",
    "types = ['SNIa-91bg','SNIax','CART','SNIIn','SNIb','SNIc','SNII','SNIa','ILOT']\n",
    "def absolute_value(val):\n",
    "    a  = np.round(val/100.*np.sum(sizes), 0)\n",
    "    return '%i'%a"
   ]
  },
  {
   "cell_type": "code",
   "execution_count": null,
   "metadata": {},
   "outputs": [],
   "source": [
    "sizes = [len(X.snid[X.SIM_TYPE == t]) for t in types]\n",
    "ax1,ax2 = plt.subplot(121),plt.subplot(122)\n",
    "ax1.set_title('%i SNe from YSE'%np.sum(sizes),fontsize=15)\n",
    "op = ax1.pie(sizes, labels=types,\n",
    "    autopct=absolute_value, shadow=False)\n",
    "sizes = [len(X.snid[X.index[iSNR]][X.SIM_TYPE[X.index[iSNR]] == t]) for t in types]\n",
    "ax2.set_title('%i SNe from YSE, >3 detections'%np.sum(sizes),fontsize=15)\n",
    "op = ax2.pie(sizes, labels=types,\n",
    "    autopct=absolute_value, shadow=False)"
   ]
  },
  {
   "cell_type": "markdown",
   "metadata": {},
   "source": [
    "### One-Day Survey\n",
    "What SNe are we finding in the 1-day survey?\n",
    "\n",
    "For simplicity's sake, the simulations treat the one-day survey as though it was happening *before* the full survey.  So to select the one-day survey, I'm choosing things where the avg cadence of PS1 observations after combining observations in all filters is < 1.5 days (this is a little weird but I think it works)."
   ]
  },
  {
   "cell_type": "code",
   "execution_count": null,
   "metadata": {},
   "outputs": [],
   "source": [
    "iOneDay = []\n",
    "for i,cid in enumerate(X.snid):\n",
    "    sn = X.loc[cid]\n",
    "    mjd = np.concatenate((sn['mjd_g'],sn['mjd_r'],sn['mjd_i'],sn['mjd_z']))\n",
    "    if np.median(mjd[1:10] -  mjd[:9]) > 2.0: continue\n",
    "    iOneDay += [i]\n",
    "if len(iOneDay):\n",
    "    sizes = [len(X.snid[X.index[iOneDay]][X.SIM_TYPE[X.index[iOneDay]] == t]) for t in types]\n",
    "    ax = plt.subplot(111)\n",
    "    ax.set_title('%i SNe from YSE 1-day Survey'%np.sum(sizes),fontsize=15)\n",
    "    op = ax.pie(sizes, labels=types,\n",
    "        autopct=absolute_value, shadow=False)"
   ]
  },
  {
   "cell_type": "markdown",
   "metadata": {},
   "source": [
    "### Young SNe\n",
    "SNe within a couple days of first light.  The time of first light is set by looking at simulations of \"perfect\" SNe, the code is in `read_pkl.py`"
   ]
  },
  {
   "cell_type": "code",
   "execution_count": null,
   "metadata": {},
   "outputs": [],
   "source": [
    "# set number of preferred days from first light\n",
    "max_days_from_firstlight = 2\n",
    "\n",
    "iYoung = []\n",
    "for i,cid in enumerate(X.snid):\n",
    "    sn = X.loc[cid]\n",
    "    firstdetect = np.min(np.concatenate((\n",
    "        sn['photflag_g'],sn['photflag_r'],\n",
    "        sn['photflag_i'],sn['photflag_z'])) - sn['SIM_PEAKMJD'])\n",
    "    young = False\n",
    "    # X and Y are ZTF g/R, so this is\n",
    "    # giving SNe detected by *either* ZTF or PS1\n",
    "    for filt in 'grizXY':\n",
    "        # SNANA flags detections with bit-code 4096\n",
    "        if len(np.where(sn['photflag_%s'%filt] == 4096)[0]):\n",
    "            if np.min(sn['days_from_firstlight_%s' % filt][sn['photflag_%s'%filt] == 4096]) \\\n",
    "                <= max_days_from_firstlight: young = True\n",
    "    if not young: continue\n",
    "    iYoung += [i]"
   ]
  },
  {
   "cell_type": "code",
   "execution_count": null,
   "metadata": {},
   "outputs": [],
   "source": [
    "sizes = [len(X.snid[X.index[iYoung]][X.SIM_TYPE[X.index[iYoung]] == t]) for t in types]\n",
    "ax = plt.subplot(111)\n",
    "ax.set_title('%i SNe from YSE within %i days of first light'%(\n",
    "    np.sum(sizes),max_days_from_firstlight),fontsize=15)\n",
    "op = ax.pie(sizes, labels=types,\n",
    "    autopct=absolute_value, shadow=False)"
   ]
  },
  {
   "cell_type": "markdown",
   "metadata": {},
   "source": [
    "## A Few Light Curves"
   ]
  },
  {
   "cell_type": "markdown",
   "metadata": {},
   "source": [
    "A couple general notes:\n",
    "\n",
    "1) for dumb reasons, the ZTF g/R filters are labeled \"X\" and \"Y\", respectively\n",
    "    \n",
    "2) plotting can be much easier, most of the code below is formatting\n",
    "    \n",
    "3) For SN IIn, occasionally the red first light looks like it might not be right.  I'm not sure why this is - possibly substantial diversity in the MOSFIT models that are not fully recorded in the simulation outputs.  But for the most part things look ok (see LC plots)..."
   ]
  },
  {
   "cell_type": "markdown",
   "metadata": {},
   "source": [
    "### Young SNe"
   ]
  },
  {
   "cell_type": "code",
   "execution_count": null,
   "metadata": {},
   "outputs": [],
   "source": [
    "import matplotlib.gridspec as gridspec\n",
    "gs1 = gridspec.GridSpec(6, 4)\n",
    "gs1.update(left=0.2,wspace=0.0,right=0.95,hspace=0)"
   ]
  },
  {
   "cell_type": "code",
   "execution_count": null,
   "metadata": {},
   "outputs": [],
   "source": [
    "j = 0\n",
    "for i in iYoung[:6]:\n",
    "    sn = X.loc[X.index[i]]\n",
    "    ax1 = plt.subplot(gs1[j % 24]); ax2 = plt.subplot(gs1[(j+1) % 24])\n",
    "    ax3 = plt.subplot(gs1[(j+2) % 24]); ax4 = plt.subplot(gs1[(j+3) % 24])\n",
    "    if j == 0:\n",
    "        for f,ax in zip('griz',[ax1,ax2,ax3,ax4]):\n",
    "            ax.set_title('$%s$'%f)\n",
    "    for f,ax,label in zip('XY',[ax1,ax2],['ZTF','ZTF-r']):\n",
    "        ax.errorbar(sn['mjd_%s'%f]-sn['SIM_PEAKMJD'],sn['fluxcal_%s'%f],\n",
    "                    yerr=sn['fluxcalerr_%s'%f],fmt='D',label=label)\n",
    "    for f,ax in zip('griz',[ax1,ax2,ax3,ax4]):\n",
    "        ax.errorbar(sn['mjd_%s'%f]-sn['SIM_PEAKMJD'],sn['fluxcal_%s'%f],\n",
    "                    yerr=sn['fluxcalerr_%s'%f],fmt='o',label='PS1',color='k')\n",
    "        ax.set_title('$%s$'%f)\n",
    "        ax.set_xlim([-40,80])\n",
    "        ax.set_ylim([-1*0.1*np.max(np.concatenate((sn['fluxcal_g'][(sn['mjd_g']-sn['SIM_PEAKMJD'] > -40) & (sn['mjd_g']-sn['SIM_PEAKMJD'] < 80)],\n",
    "                    sn['fluxcal_r'][(sn['mjd_r']-sn['SIM_PEAKMJD'] > -40) & (sn['mjd_r']-sn['SIM_PEAKMJD'] < 80)],\n",
    "                    sn['fluxcal_i'][(sn['mjd_i']-sn['SIM_PEAKMJD'] > -40) & (sn['mjd_i']-sn['SIM_PEAKMJD'] < 80)],\n",
    "                    sn['fluxcal_z'][(sn['mjd_z']-sn['SIM_PEAKMJD'] > -40) & (sn['mjd_z']-sn['SIM_PEAKMJD'] < 80)]))),\n",
    "                     1.5*np.max(np.concatenate((sn['fluxcal_g'][(sn['mjd_g']-sn['SIM_PEAKMJD'] > -40) & (sn['mjd_g']-sn['SIM_PEAKMJD'] < 80)],\n",
    "                    sn['fluxcal_r'][(sn['mjd_r']-sn['SIM_PEAKMJD'] > -40) & (sn['mjd_r']-sn['SIM_PEAKMJD'] < 80)],\n",
    "                    sn['fluxcal_i'][(sn['mjd_i']-sn['SIM_PEAKMJD'] > -40) & (sn['mjd_i']-sn['SIM_PEAKMJD'] < 80)],\n",
    "                    sn['fluxcal_z'][(sn['mjd_z']-sn['SIM_PEAKMJD'] > -40) & (sn['mjd_z']-sn['SIM_PEAKMJD'] < 80)])))])\n",
    "        ax.xaxis.set_ticks([-30,0,30,60])\n",
    "        ax.set_xlabel('phase')\n",
    "        \n",
    "        zeropt = -1*(sn['days_from_firstlight_g'][0] - (sn['mjd_g'][0] - sn['SIM_PEAKMJD']))\n",
    "        ax.axvline(zeropt,color='r',label='first flux')\n",
    "    if j == 0: ax1.legend()\n",
    "    \n",
    "    ax1.set_ylabel('%s\\nz=%.2f\\nFlux'%(\n",
    "        sn['SIM_TYPE'],sn['z']),va='center',ha='center',labelpad=30)\n",
    "    ax2.yaxis.set_ticklabels([]); ax3.yaxis.set_ticklabels([]); ax4.yaxis.set_ticklabels([])\n",
    "    \n",
    "    j += 4"
   ]
  },
  {
   "cell_type": "markdown",
   "metadata": {},
   "source": [
    "### A Few Random Light Curves from the Full Sample"
   ]
  },
  {
   "cell_type": "code",
   "execution_count": null,
   "metadata": {},
   "outputs": [],
   "source": [
    "def plotLCs(idx):\n",
    "    j = 0\n",
    "    for i in idx:\n",
    "        sn = X.loc[X.index[i]]\n",
    "        ax1 = plt.subplot(gs1[j % 24]); ax2 = plt.subplot(gs1[(j+1) % 24])\n",
    "        ax3 = plt.subplot(gs1[(j+2) % 24]); ax4 = plt.subplot(gs1[(j+3) % 24])\n",
    "        if j == 0:\n",
    "            for f,ax in zip('griz',[ax1,ax2,ax3,ax4]):\n",
    "                ax.set_title('$%s$'%f)\n",
    "        for f,ax,label in zip('XY',[ax1,ax2],['ZTF','ZTF-r']):\n",
    "            ax.errorbar(sn['mjd_%s'%f]-sn['SIM_PEAKMJD'],sn['fluxcal_%s'%f],\n",
    "                        yerr=sn['fluxcalerr_%s'%f],fmt='.',label=label)\n",
    "        for f,ax in zip('griz',[ax1,ax2,ax3,ax4]):\n",
    "            ax.errorbar(sn['mjd_%s'%f]-sn['SIM_PEAKMJD'],sn['fluxcal_%s'%f],\n",
    "                        yerr=sn['fluxcalerr_%s'%f],fmt='o',label='PS1',color='k')\n",
    "            ax.set_title('$%s$'%f)\n",
    "            ax.set_xlim([-40,80])\n",
    "            ax.set_ylim([-1*0.1*np.max(np.concatenate((sn['fluxcal_g'][(sn['mjd_g']-sn['SIM_PEAKMJD'] > -40) & (sn['mjd_g']-sn['SIM_PEAKMJD'] < 80)],\n",
    "                        sn['fluxcal_r'][(sn['mjd_r']-sn['SIM_PEAKMJD'] > -40) & (sn['mjd_r']-sn['SIM_PEAKMJD'] < 80)],\n",
    "                        sn['fluxcal_i'][(sn['mjd_i']-sn['SIM_PEAKMJD'] > -40) & (sn['mjd_i']-sn['SIM_PEAKMJD'] < 80)],\n",
    "                        sn['fluxcal_z'][(sn['mjd_z']-sn['SIM_PEAKMJD'] > -40) & (sn['mjd_z']-sn['SIM_PEAKMJD'] < 80)]))),\n",
    "                         1.5*np.max(np.concatenate((sn['fluxcal_g'][(sn['mjd_g']-sn['SIM_PEAKMJD'] > -40) & (sn['mjd_g']-sn['SIM_PEAKMJD'] < 80)],\n",
    "                        sn['fluxcal_r'][(sn['mjd_r']-sn['SIM_PEAKMJD'] > -40) & (sn['mjd_r']-sn['SIM_PEAKMJD'] < 80)],\n",
    "                        sn['fluxcal_i'][(sn['mjd_i']-sn['SIM_PEAKMJD'] > -40) & (sn['mjd_i']-sn['SIM_PEAKMJD'] < 80)],\n",
    "                        sn['fluxcal_z'][(sn['mjd_z']-sn['SIM_PEAKMJD'] > -40) & (sn['mjd_z']-sn['SIM_PEAKMJD'] < 80)])))])\n",
    "            ax.xaxis.set_ticks([-30,0,30,60])\n",
    "            ax.set_xlabel('phase')\n",
    "\n",
    "        if j == 0: ax1.legend()\n",
    "    \n",
    "        ax1.set_ylabel('%s\\nz=%.2f\\nFlux'%(\n",
    "            sn['SIM_TYPE'],sn['z']),va='center',ha='center',labelpad=30)\n",
    "        ax2.yaxis.set_ticklabels([]); ax3.yaxis.set_ticklabels([]); ax4.yaxis.set_ticklabels([])\n",
    "    \n",
    "        j += 4"
   ]
  },
  {
   "cell_type": "code",
   "execution_count": null,
   "metadata": {},
   "outputs": [],
   "source": [
    "from random import sample\n",
    "plotLCs(sample(range(len(X.snid)),6))"
   ]
  },
  {
   "cell_type": "markdown",
   "metadata": {},
   "source": [
    "### A Few Random Light Curves from the One-Day Sample\n",
    "\n",
    "There are some edge effects where we transition into the three-day survey at the end of the time range below because the method I'm using to simulate the one-day sample is clumsy and could be improved"
   ]
  },
  {
   "cell_type": "code",
   "execution_count": null,
   "metadata": {},
   "outputs": [],
   "source": [
    "# need to re-define the \"one-day\" sample to avoid edge effects in the LC plots\n",
    "# this is because I (temporarily) defined the simulations such that the \"start\" \n",
    "# of the survey is the one-day cadence and the rest is nominal cadence\n",
    "iOneDay = []\n",
    "for i,cid in enumerate(X.snid):\n",
    "    sn = X.loc[cid]\n",
    "    mjd = np.concatenate((sn['mjd_g'],sn['mjd_r'],sn['mjd_i'],sn['mjd_z']))\n",
    "    iMJD = np.where(mjd-sn['SIM_PEAKMJD'] > 10)[0]\n",
    "    if np.median((mjd[iMJD][1:] -  mjd[iMJD][:-1])[:10]) > 2.0: continue\n",
    "    if len(iMJD) < 5 or len(np.where(mjd-sn['SIM_PEAKMJD'] < -10)[0]) < 5: continue\n",
    "    iOneDay += [i]"
   ]
  },
  {
   "cell_type": "code",
   "execution_count": null,
   "metadata": {},
   "outputs": [],
   "source": [
    "print(len(iOneDay))\n",
    "if len(iOneDay): plotLCs(sample(iOneDay,6))"
   ]
  },
  {
   "cell_type": "code",
   "execution_count": null,
   "metadata": {},
   "outputs": [],
   "source": []
  }
 ],
 "metadata": {
  "kernelspec": {
   "display_name": "Python 3",
   "language": "python",
   "name": "python3"
  },
  "language_info": {
   "codemirror_mode": {
    "name": "ipython",
    "version": 3
   },
   "file_extension": ".py",
   "mimetype": "text/x-python",
   "name": "python",
   "nbconvert_exporter": "python",
   "pygments_lexer": "ipython3",
   "version": "3.7.3"
  }
 },
 "nbformat": 4,
 "nbformat_minor": 2
}
